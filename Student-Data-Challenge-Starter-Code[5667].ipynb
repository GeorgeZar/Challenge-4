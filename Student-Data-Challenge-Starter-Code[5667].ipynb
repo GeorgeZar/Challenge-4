{
  "cells": [
    {
      "cell_type": "markdown",
      "id": "9c960cd6-a10b-4e3d-ba23-fe7a3ef7ae95",
      "metadata": {
        "id": "9c960cd6-a10b-4e3d-ba23-fe7a3ef7ae95"
      },
      "source": [
        "### Import required dependencies"
      ]
    },
    {
      "cell_type": "code",
      "execution_count": null,
      "id": "34266c40-c789-42cd-802f-83eedddc4138",
      "metadata": {
        "id": "34266c40-c789-42cd-802f-83eedddc4138"
      },
      "outputs": [],
      "source": [
        "import pandas as pd\n",
        "import os"
      ]
    },
    {
      "cell_type": "markdown",
      "id": "a47f3bec-4c1a-4b1e-9747-546678c1bb82",
      "metadata": {
        "id": "a47f3bec-4c1a-4b1e-9747-546678c1bb82"
      },
      "source": [
        "## Deliverable 1: Collect the Data\n",
        "\n",
        "To collect the data that you’ll need, complete the following steps:\n",
        "\n",
        "1. Using the Pandas `read_csv` function and the `os` module, import the data from the `new_full_student_data.csv` file, and create a DataFrame called student_df. \n",
        "\n",
        "2. Use the head function to confirm that Pandas properly imported the data.\n"
      ]
    },
    {
      "cell_type": "code",
      "execution_count": null,
      "id": "b9d76875-49a9-4591-83d6-2e784bffcb21",
      "metadata": {
        "id": "b9d76875-49a9-4591-83d6-2e784bffcb21"
      },
      "outputs": [],
      "source": [
        "# Create the path and import the data\n",
        "full_student_data = os.path.join('/content/new_full_student_data.csv')\n",
        "student_df = pd.read_csv(full_student_data)"
      ]
    },
    {
      "cell_type": "code",
      "execution_count": null,
      "id": "c73ce640-ae34-4d45-9714-40eb55855d94",
      "metadata": {
        "colab": {
          "base_uri": "https://localhost:8080/",
          "height": 206
        },
        "id": "c73ce640-ae34-4d45-9714-40eb55855d94",
        "outputId": "263c38a9-126a-48c1-ef8e-211639f07e43"
      },
      "outputs": [
        {
          "data": {
            "text/html": [
              "\n",
              "  <div id=\"df-172ac227-c844-4403-ad2f-d96dadfd701d\">\n",
              "    <div class=\"colab-df-container\">\n",
              "      <div>\n",
              "<style scoped>\n",
              "    .dataframe tbody tr th:only-of-type {\n",
              "        vertical-align: middle;\n",
              "    }\n",
              "\n",
              "    .dataframe tbody tr th {\n",
              "        vertical-align: top;\n",
              "    }\n",
              "\n",
              "    .dataframe thead th {\n",
              "        text-align: right;\n",
              "    }\n",
              "</style>\n",
              "<table border=\"1\" class=\"dataframe\">\n",
              "  <thead>\n",
              "    <tr style=\"text-align: right;\">\n",
              "      <th></th>\n",
              "      <th>student_id</th>\n",
              "      <th>student_name</th>\n",
              "      <th>grade</th>\n",
              "      <th>school_name</th>\n",
              "      <th>reading_score</th>\n",
              "      <th>math_score</th>\n",
              "      <th>school_type</th>\n",
              "      <th>school_budget</th>\n",
              "    </tr>\n",
              "  </thead>\n",
              "  <tbody>\n",
              "    <tr>\n",
              "      <th>0</th>\n",
              "      <td>103880842</td>\n",
              "      <td>Travis Martin</td>\n",
              "      <td>9th</td>\n",
              "      <td>Sullivan High School</td>\n",
              "      <td>59.0</td>\n",
              "      <td>88.2</td>\n",
              "      <td>Public</td>\n",
              "      <td>961125</td>\n",
              "    </tr>\n",
              "    <tr>\n",
              "      <th>1</th>\n",
              "      <td>45069750</td>\n",
              "      <td>Michael Brown</td>\n",
              "      <td>9th</td>\n",
              "      <td>Dixon High School</td>\n",
              "      <td>94.7</td>\n",
              "      <td>73.5</td>\n",
              "      <td>Charter</td>\n",
              "      <td>870334</td>\n",
              "    </tr>\n",
              "    <tr>\n",
              "      <th>2</th>\n",
              "      <td>45024902</td>\n",
              "      <td>Gabriela Lucero</td>\n",
              "      <td>9th</td>\n",
              "      <td>Wagner High School</td>\n",
              "      <td>89.0</td>\n",
              "      <td>70.4</td>\n",
              "      <td>Public</td>\n",
              "      <td>846745</td>\n",
              "    </tr>\n",
              "    <tr>\n",
              "      <th>3</th>\n",
              "      <td>62582498</td>\n",
              "      <td>Susan Richardson</td>\n",
              "      <td>9th</td>\n",
              "      <td>Silva High School</td>\n",
              "      <td>69.7</td>\n",
              "      <td>80.3</td>\n",
              "      <td>Public</td>\n",
              "      <td>991918</td>\n",
              "    </tr>\n",
              "    <tr>\n",
              "      <th>4</th>\n",
              "      <td>16437227</td>\n",
              "      <td>Sherry Davis</td>\n",
              "      <td>11th</td>\n",
              "      <td>Bowers High School</td>\n",
              "      <td>NaN</td>\n",
              "      <td>27.5</td>\n",
              "      <td>Public</td>\n",
              "      <td>848324</td>\n",
              "    </tr>\n",
              "  </tbody>\n",
              "</table>\n",
              "</div>\n",
              "      <button class=\"colab-df-convert\" onclick=\"convertToInteractive('df-172ac227-c844-4403-ad2f-d96dadfd701d')\"\n",
              "              title=\"Convert this dataframe to an interactive table.\"\n",
              "              style=\"display:none;\">\n",
              "        \n",
              "  <svg xmlns=\"http://www.w3.org/2000/svg\" height=\"24px\"viewBox=\"0 0 24 24\"\n",
              "       width=\"24px\">\n",
              "    <path d=\"M0 0h24v24H0V0z\" fill=\"none\"/>\n",
              "    <path d=\"M18.56 5.44l.94 2.06.94-2.06 2.06-.94-2.06-.94-.94-2.06-.94 2.06-2.06.94zm-11 1L8.5 8.5l.94-2.06 2.06-.94-2.06-.94L8.5 2.5l-.94 2.06-2.06.94zm10 10l.94 2.06.94-2.06 2.06-.94-2.06-.94-.94-2.06-.94 2.06-2.06.94z\"/><path d=\"M17.41 7.96l-1.37-1.37c-.4-.4-.92-.59-1.43-.59-.52 0-1.04.2-1.43.59L10.3 9.45l-7.72 7.72c-.78.78-.78 2.05 0 2.83L4 21.41c.39.39.9.59 1.41.59.51 0 1.02-.2 1.41-.59l7.78-7.78 2.81-2.81c.8-.78.8-2.07 0-2.86zM5.41 20L4 18.59l7.72-7.72 1.47 1.35L5.41 20z\"/>\n",
              "  </svg>\n",
              "      </button>\n",
              "      \n",
              "  <style>\n",
              "    .colab-df-container {\n",
              "      display:flex;\n",
              "      flex-wrap:wrap;\n",
              "      gap: 12px;\n",
              "    }\n",
              "\n",
              "    .colab-df-convert {\n",
              "      background-color: #E8F0FE;\n",
              "      border: none;\n",
              "      border-radius: 50%;\n",
              "      cursor: pointer;\n",
              "      display: none;\n",
              "      fill: #1967D2;\n",
              "      height: 32px;\n",
              "      padding: 0 0 0 0;\n",
              "      width: 32px;\n",
              "    }\n",
              "\n",
              "    .colab-df-convert:hover {\n",
              "      background-color: #E2EBFA;\n",
              "      box-shadow: 0px 1px 2px rgba(60, 64, 67, 0.3), 0px 1px 3px 1px rgba(60, 64, 67, 0.15);\n",
              "      fill: #174EA6;\n",
              "    }\n",
              "\n",
              "    [theme=dark] .colab-df-convert {\n",
              "      background-color: #3B4455;\n",
              "      fill: #D2E3FC;\n",
              "    }\n",
              "\n",
              "    [theme=dark] .colab-df-convert:hover {\n",
              "      background-color: #434B5C;\n",
              "      box-shadow: 0px 1px 3px 1px rgba(0, 0, 0, 0.15);\n",
              "      filter: drop-shadow(0px 1px 2px rgba(0, 0, 0, 0.3));\n",
              "      fill: #FFFFFF;\n",
              "    }\n",
              "  </style>\n",
              "\n",
              "      <script>\n",
              "        const buttonEl =\n",
              "          document.querySelector('#df-172ac227-c844-4403-ad2f-d96dadfd701d button.colab-df-convert');\n",
              "        buttonEl.style.display =\n",
              "          google.colab.kernel.accessAllowed ? 'block' : 'none';\n",
              "\n",
              "        async function convertToInteractive(key) {\n",
              "          const element = document.querySelector('#df-172ac227-c844-4403-ad2f-d96dadfd701d');\n",
              "          const dataTable =\n",
              "            await google.colab.kernel.invokeFunction('convertToInteractive',\n",
              "                                                     [key], {});\n",
              "          if (!dataTable) return;\n",
              "\n",
              "          const docLinkHtml = 'Like what you see? Visit the ' +\n",
              "            '<a target=\"_blank\" href=https://colab.research.google.com/notebooks/data_table.ipynb>data table notebook</a>'\n",
              "            + ' to learn more about interactive tables.';\n",
              "          element.innerHTML = '';\n",
              "          dataTable['output_type'] = 'display_data';\n",
              "          await google.colab.output.renderOutput(dataTable, element);\n",
              "          const docLink = document.createElement('div');\n",
              "          docLink.innerHTML = docLinkHtml;\n",
              "          element.appendChild(docLink);\n",
              "        }\n",
              "      </script>\n",
              "    </div>\n",
              "  </div>\n",
              "  "
            ],
            "text/plain": [
              "   student_id      student_name grade           school_name  reading_score  \\\n",
              "0   103880842     Travis Martin   9th  Sullivan High School           59.0   \n",
              "1    45069750     Michael Brown   9th     Dixon High School           94.7   \n",
              "2    45024902   Gabriela Lucero   9th    Wagner High School           89.0   \n",
              "3    62582498  Susan Richardson   9th     Silva High School           69.7   \n",
              "4    16437227      Sherry Davis  11th    Bowers High School            NaN   \n",
              "\n",
              "   math_score school_type  school_budget  \n",
              "0        88.2      Public         961125  \n",
              "1        73.5     Charter         870334  \n",
              "2        70.4      Public         846745  \n",
              "3        80.3      Public         991918  \n",
              "4        27.5      Public         848324  "
            ]
          },
          "execution_count": 58,
          "metadata": {},
          "output_type": "execute_result"
        }
      ],
      "source": [
        "# Verify that the data was properly imported\n",
        "student_df.head()"
      ]
    },
    {
      "cell_type": "markdown",
      "id": "d7f4b183-8e6a-4d83-9d40-a5fd665ac07f",
      "metadata": {
        "id": "d7f4b183-8e6a-4d83-9d40-a5fd665ac07f"
      },
      "source": [
        "## Deliverable 2: Prepare the Data\n",
        "\n",
        "To prepare and clean your data for analysis, complete the following steps:\n",
        "    \n",
        "1. Check for and remove all rows with `NaN`, or missing, values in the student DataFrame. \n",
        "\n",
        "2. Check for and remove all duplicate rows in the student DataFrame.\n",
        "\n",
        "3. Use the `str.replace` function to remove the \"th\" from the grade levels in the grade column.\n",
        "\n",
        "4. Check data types using the `dtypes` property.\n",
        "\n",
        "5. Remove the \"th\" suffix from every value in the grade column using `str` and `replace`.\n",
        "\n",
        "6. Change the grade colum to the `int` type and verify column types.\n",
        "\n",
        "7. Use the head (and/or the tail) function to preview the DataFrame."
      ]
    },
    {
      "cell_type": "code",
      "execution_count": null,
      "id": "9464841c",
      "metadata": {
        "colab": {
          "base_uri": "https://localhost:8080/"
        },
        "id": "9464841c",
        "outputId": "dabbadf9-f167-444e-a28c-ba312416d03e"
      },
      "outputs": [
        {
          "data": {
            "text/plain": [
              "student_id          0\n",
              "student_name        0\n",
              "grade               0\n",
              "school_name         0\n",
              "reading_score    1968\n",
              "math_score        982\n",
              "school_type         0\n",
              "school_budget       0\n",
              "dtype: int64"
            ]
          },
          "execution_count": 25,
          "metadata": {},
          "output_type": "execute_result"
        }
      ],
      "source": [
        "# Check for null values\n",
        "student_df.isna().sum()"
      ]
    },
    {
      "cell_type": "code",
      "execution_count": null,
      "id": "ab80d5e8-0294-459e-9d68-19d7fe98c75e",
      "metadata": {
        "colab": {
          "base_uri": "https://localhost:8080/"
        },
        "id": "ab80d5e8-0294-459e-9d68-19d7fe98c75e",
        "outputId": "a886c677-0cd8-40e2-c208-738c398d9e93"
      },
      "outputs": [
        {
          "data": {
            "text/plain": [
              "student_id       0\n",
              "student_name     0\n",
              "grade            0\n",
              "school_name      0\n",
              "reading_score    0\n",
              "math_score       0\n",
              "school_type      0\n",
              "school_budget    0\n",
              "dtype: int64"
            ]
          },
          "execution_count": 59,
          "metadata": {},
          "output_type": "execute_result"
        }
      ],
      "source": [
        "# Drop rows with null values and verify removal\n",
        "student_df = student_df.dropna()\n",
        "student_df.isna().sum()"
      ]
    },
    {
      "cell_type": "code",
      "execution_count": null,
      "id": "2292509a-c429-45e2-aa62-bb0397091c76",
      "metadata": {
        "colab": {
          "base_uri": "https://localhost:8080/"
        },
        "id": "2292509a-c429-45e2-aa62-bb0397091c76",
        "outputId": "742c0c92-0fee-4bef-e252-3fb4a25bfaae"
      },
      "outputs": [
        {
          "data": {
            "text/plain": [
              "1836"
            ]
          },
          "execution_count": 60,
          "metadata": {},
          "output_type": "execute_result"
        }
      ],
      "source": [
        "# Check for duplicated rows\n",
        "student_df.duplicated().sum()"
      ]
    },
    {
      "cell_type": "code",
      "execution_count": null,
      "id": "95c0c53e-602f-44a0-b72a-3383dcce09fc",
      "metadata": {
        "colab": {
          "base_uri": "https://localhost:8080/"
        },
        "id": "95c0c53e-602f-44a0-b72a-3383dcce09fc",
        "outputId": "1d4a93ff-0e4a-411d-b487-3c40fb59d57b"
      },
      "outputs": [
        {
          "data": {
            "text/plain": [
              "0"
            ]
          },
          "execution_count": 61,
          "metadata": {},
          "output_type": "execute_result"
        }
      ],
      "source": [
        "# Drop duplicated rows and verify removal\n",
        "student_df = student_df.drop_duplicates()\n",
        "student_df.duplicated().sum()"
      ]
    },
    {
      "cell_type": "code",
      "execution_count": null,
      "id": "d04088bb-df5a-47b0-990a-c6127bfc9bfd",
      "metadata": {
        "colab": {
          "base_uri": "https://localhost:8080/"
        },
        "id": "d04088bb-df5a-47b0-990a-c6127bfc9bfd",
        "outputId": "2b83dd1c-e3de-4154-8427-1dd4409e4c25"
      },
      "outputs": [
        {
          "data": {
            "text/plain": [
              "student_id         int64\n",
              "student_name      object\n",
              "grade             object\n",
              "school_name       object\n",
              "reading_score    float64\n",
              "math_score       float64\n",
              "school_type       object\n",
              "school_budget      int64\n",
              "dtype: object"
            ]
          },
          "execution_count": 62,
          "metadata": {},
          "output_type": "execute_result"
        }
      ],
      "source": [
        "# Check data types\n",
        "student_df.dtypes"
      ]
    },
    {
      "cell_type": "code",
      "execution_count": null,
      "id": "f1e2d12e-c56d-47bc-b9a0-01f97400c4a3",
      "metadata": {
        "colab": {
          "base_uri": "https://localhost:8080/"
        },
        "id": "f1e2d12e-c56d-47bc-b9a0-01f97400c4a3",
        "outputId": "22d4c9f5-34f6-47ed-b2b5-b40fb7f04198"
      },
      "outputs": [
        {
          "name": "stdout",
          "output_type": "stream",
          "text": [
            "0         9th\n",
            "1         9th\n",
            "2         9th\n",
            "3         9th\n",
            "5         9th\n",
            "         ... \n",
            "19508    10th\n",
            "19509    12th\n",
            "19511    11th\n",
            "19512    11th\n",
            "19513    12th\n",
            "Name: grade, Length: 14831, dtype: object\n"
          ]
        }
      ],
      "source": [
        "# Examine the grade column to understand why it is not an int\n",
        "print(student_df['grade'])\n",
        "#it is not int because it contains \"th\" string after the number"
      ]
    },
    {
      "cell_type": "code",
      "execution_count": null,
      "id": "29b32018",
      "metadata": {
        "colab": {
          "base_uri": "https://localhost:8080/"
        },
        "id": "29b32018",
        "outputId": "cda48dea-3b75-466c-8cc2-c718902a649c"
      },
      "outputs": [
        {
          "name": "stdout",
          "output_type": "stream",
          "text": [
            "0         9\n",
            "1         9\n",
            "2         9\n",
            "3         9\n",
            "5         9\n",
            "         ..\n",
            "19508    10\n",
            "19509    12\n",
            "19511    11\n",
            "19512    11\n",
            "19513    12\n",
            "Name: grade, Length: 14831, dtype: object\n"
          ]
        }
      ],
      "source": [
        "# Remove the non-numeric characters and verify the contents of the column\n",
        "# for grade in student_df:\n",
        "#   print(student_df['grade'])\n",
        "student_df['grade'] = student_df['grade'].replace(to_replace='th', regex=True, value='')\n",
        "# student_df[\"grade\"] = np.where(\"th\" in student_df[\"grade\"], 0, 1)\n",
        "print(student_df['grade'])"
      ]
    },
    {
      "cell_type": "code",
      "execution_count": null,
      "id": "09ebbec2-c5a7-49a9-9a21-f86c0f4c3791",
      "metadata": {
        "colab": {
          "base_uri": "https://localhost:8080/"
        },
        "id": "09ebbec2-c5a7-49a9-9a21-f86c0f4c3791",
        "outputId": "a3c52f24-c41f-4440-a8d7-585cbee79b68"
      },
      "outputs": [
        {
          "data": {
            "text/plain": [
              "student_id         int64\n",
              "student_name      object\n",
              "grade               int8\n",
              "school_name       object\n",
              "reading_score    float64\n",
              "math_score       float64\n",
              "school_type       object\n",
              "school_budget      int64\n",
              "dtype: object"
            ]
          },
          "execution_count": 70,
          "metadata": {},
          "output_type": "execute_result"
        }
      ],
      "source": [
        "# Change the grade column to the int type and verify column types\n",
        "student_df['grade'] = pd.to_numeric(student_df['grade'], downcast='integer')\n",
        "student_df.dtypes"
      ]
    },
    {
      "cell_type": "markdown",
      "id": "e52c4a6f-7dd7-4bb6-8f75-5f0995e7b32b",
      "metadata": {
        "id": "e52c4a6f-7dd7-4bb6-8f75-5f0995e7b32b"
      },
      "source": [
        "## Deliverable 3: Summarize the Data\n",
        "\n",
        "Describe the data using summary statistics on the data as a whole and on individual columns.\n",
        "\n",
        "1. Generate the summary statistics for each DataFrame by using the `describe` function.\n",
        "\n",
        "2. Display the mean math score using the `mean` function. \n",
        "\n",
        "2. Store the minimum reading score as `min_reading_score`."
      ]
    },
    {
      "cell_type": "code",
      "execution_count": null,
      "id": "ac4fc0af-babd-47fb-9962-66727ea0dc28",
      "metadata": {
        "colab": {
          "base_uri": "https://localhost:8080/",
          "height": 300
        },
        "id": "ac4fc0af-babd-47fb-9962-66727ea0dc28",
        "outputId": "d7ee0121-63a9-47bc-a5ca-740d934616aa"
      },
      "outputs": [
        {
          "data": {
            "text/html": [
              "\n",
              "  <div id=\"df-d227ec80-6759-43e9-8074-4eb7f6ea7c63\">\n",
              "    <div class=\"colab-df-container\">\n",
              "      <div>\n",
              "<style scoped>\n",
              "    .dataframe tbody tr th:only-of-type {\n",
              "        vertical-align: middle;\n",
              "    }\n",
              "\n",
              "    .dataframe tbody tr th {\n",
              "        vertical-align: top;\n",
              "    }\n",
              "\n",
              "    .dataframe thead th {\n",
              "        text-align: right;\n",
              "    }\n",
              "</style>\n",
              "<table border=\"1\" class=\"dataframe\">\n",
              "  <thead>\n",
              "    <tr style=\"text-align: right;\">\n",
              "      <th></th>\n",
              "      <th>student_id</th>\n",
              "      <th>grade</th>\n",
              "      <th>reading_score</th>\n",
              "      <th>math_score</th>\n",
              "      <th>school_budget</th>\n",
              "    </tr>\n",
              "  </thead>\n",
              "  <tbody>\n",
              "    <tr>\n",
              "      <th>count</th>\n",
              "      <td>1.483100e+04</td>\n",
              "      <td>14831.000000</td>\n",
              "      <td>14831.000000</td>\n",
              "      <td>14831.000000</td>\n",
              "      <td>14831.000000</td>\n",
              "    </tr>\n",
              "    <tr>\n",
              "      <th>mean</th>\n",
              "      <td>6.975296e+07</td>\n",
              "      <td>10.355539</td>\n",
              "      <td>72.357865</td>\n",
              "      <td>64.675733</td>\n",
              "      <td>893742.749107</td>\n",
              "    </tr>\n",
              "    <tr>\n",
              "      <th>std</th>\n",
              "      <td>3.452909e+07</td>\n",
              "      <td>1.097728</td>\n",
              "      <td>15.224590</td>\n",
              "      <td>15.844093</td>\n",
              "      <td>53938.066467</td>\n",
              "    </tr>\n",
              "    <tr>\n",
              "      <th>min</th>\n",
              "      <td>1.000906e+07</td>\n",
              "      <td>9.000000</td>\n",
              "      <td>10.500000</td>\n",
              "      <td>3.700000</td>\n",
              "      <td>817615.000000</td>\n",
              "    </tr>\n",
              "    <tr>\n",
              "      <th>25%</th>\n",
              "      <td>3.984433e+07</td>\n",
              "      <td>9.000000</td>\n",
              "      <td>62.200000</td>\n",
              "      <td>54.500000</td>\n",
              "      <td>846745.000000</td>\n",
              "    </tr>\n",
              "    <tr>\n",
              "      <th>50%</th>\n",
              "      <td>6.965978e+07</td>\n",
              "      <td>10.000000</td>\n",
              "      <td>73.800000</td>\n",
              "      <td>65.300000</td>\n",
              "      <td>893368.000000</td>\n",
              "    </tr>\n",
              "    <tr>\n",
              "      <th>75%</th>\n",
              "      <td>9.927449e+07</td>\n",
              "      <td>11.000000</td>\n",
              "      <td>84.000000</td>\n",
              "      <td>76.000000</td>\n",
              "      <td>956438.000000</td>\n",
              "    </tr>\n",
              "    <tr>\n",
              "      <th>max</th>\n",
              "      <td>1.299997e+08</td>\n",
              "      <td>12.000000</td>\n",
              "      <td>100.000000</td>\n",
              "      <td>100.000000</td>\n",
              "      <td>991918.000000</td>\n",
              "    </tr>\n",
              "  </tbody>\n",
              "</table>\n",
              "</div>\n",
              "      <button class=\"colab-df-convert\" onclick=\"convertToInteractive('df-d227ec80-6759-43e9-8074-4eb7f6ea7c63')\"\n",
              "              title=\"Convert this dataframe to an interactive table.\"\n",
              "              style=\"display:none;\">\n",
              "        \n",
              "  <svg xmlns=\"http://www.w3.org/2000/svg\" height=\"24px\"viewBox=\"0 0 24 24\"\n",
              "       width=\"24px\">\n",
              "    <path d=\"M0 0h24v24H0V0z\" fill=\"none\"/>\n",
              "    <path d=\"M18.56 5.44l.94 2.06.94-2.06 2.06-.94-2.06-.94-.94-2.06-.94 2.06-2.06.94zm-11 1L8.5 8.5l.94-2.06 2.06-.94-2.06-.94L8.5 2.5l-.94 2.06-2.06.94zm10 10l.94 2.06.94-2.06 2.06-.94-2.06-.94-.94-2.06-.94 2.06-2.06.94z\"/><path d=\"M17.41 7.96l-1.37-1.37c-.4-.4-.92-.59-1.43-.59-.52 0-1.04.2-1.43.59L10.3 9.45l-7.72 7.72c-.78.78-.78 2.05 0 2.83L4 21.41c.39.39.9.59 1.41.59.51 0 1.02-.2 1.41-.59l7.78-7.78 2.81-2.81c.8-.78.8-2.07 0-2.86zM5.41 20L4 18.59l7.72-7.72 1.47 1.35L5.41 20z\"/>\n",
              "  </svg>\n",
              "      </button>\n",
              "      \n",
              "  <style>\n",
              "    .colab-df-container {\n",
              "      display:flex;\n",
              "      flex-wrap:wrap;\n",
              "      gap: 12px;\n",
              "    }\n",
              "\n",
              "    .colab-df-convert {\n",
              "      background-color: #E8F0FE;\n",
              "      border: none;\n",
              "      border-radius: 50%;\n",
              "      cursor: pointer;\n",
              "      display: none;\n",
              "      fill: #1967D2;\n",
              "      height: 32px;\n",
              "      padding: 0 0 0 0;\n",
              "      width: 32px;\n",
              "    }\n",
              "\n",
              "    .colab-df-convert:hover {\n",
              "      background-color: #E2EBFA;\n",
              "      box-shadow: 0px 1px 2px rgba(60, 64, 67, 0.3), 0px 1px 3px 1px rgba(60, 64, 67, 0.15);\n",
              "      fill: #174EA6;\n",
              "    }\n",
              "\n",
              "    [theme=dark] .colab-df-convert {\n",
              "      background-color: #3B4455;\n",
              "      fill: #D2E3FC;\n",
              "    }\n",
              "\n",
              "    [theme=dark] .colab-df-convert:hover {\n",
              "      background-color: #434B5C;\n",
              "      box-shadow: 0px 1px 3px 1px rgba(0, 0, 0, 0.15);\n",
              "      filter: drop-shadow(0px 1px 2px rgba(0, 0, 0, 0.3));\n",
              "      fill: #FFFFFF;\n",
              "    }\n",
              "  </style>\n",
              "\n",
              "      <script>\n",
              "        const buttonEl =\n",
              "          document.querySelector('#df-d227ec80-6759-43e9-8074-4eb7f6ea7c63 button.colab-df-convert');\n",
              "        buttonEl.style.display =\n",
              "          google.colab.kernel.accessAllowed ? 'block' : 'none';\n",
              "\n",
              "        async function convertToInteractive(key) {\n",
              "          const element = document.querySelector('#df-d227ec80-6759-43e9-8074-4eb7f6ea7c63');\n",
              "          const dataTable =\n",
              "            await google.colab.kernel.invokeFunction('convertToInteractive',\n",
              "                                                     [key], {});\n",
              "          if (!dataTable) return;\n",
              "\n",
              "          const docLinkHtml = 'Like what you see? Visit the ' +\n",
              "            '<a target=\"_blank\" href=https://colab.research.google.com/notebooks/data_table.ipynb>data table notebook</a>'\n",
              "            + ' to learn more about interactive tables.';\n",
              "          element.innerHTML = '';\n",
              "          dataTable['output_type'] = 'display_data';\n",
              "          await google.colab.output.renderOutput(dataTable, element);\n",
              "          const docLink = document.createElement('div');\n",
              "          docLink.innerHTML = docLinkHtml;\n",
              "          element.appendChild(docLink);\n",
              "        }\n",
              "      </script>\n",
              "    </div>\n",
              "  </div>\n",
              "  "
            ],
            "text/plain": [
              "         student_id         grade  reading_score    math_score  school_budget\n",
              "count  1.483100e+04  14831.000000   14831.000000  14831.000000   14831.000000\n",
              "mean   6.975296e+07     10.355539      72.357865     64.675733  893742.749107\n",
              "std    3.452909e+07      1.097728      15.224590     15.844093   53938.066467\n",
              "min    1.000906e+07      9.000000      10.500000      3.700000  817615.000000\n",
              "25%    3.984433e+07      9.000000      62.200000     54.500000  846745.000000\n",
              "50%    6.965978e+07     10.000000      73.800000     65.300000  893368.000000\n",
              "75%    9.927449e+07     11.000000      84.000000     76.000000  956438.000000\n",
              "max    1.299997e+08     12.000000     100.000000    100.000000  991918.000000"
            ]
          },
          "execution_count": 73,
          "metadata": {},
          "output_type": "execute_result"
        }
      ],
      "source": [
        "# Display summary statistics for the DataFrame\n",
        "student_df.describe()"
      ]
    },
    {
      "cell_type": "code",
      "execution_count": null,
      "id": "d94aa5d1",
      "metadata": {
        "colab": {
          "base_uri": "https://localhost:8080/"
        },
        "id": "d94aa5d1",
        "outputId": "171b0f60-d5e9-4675-81ef-611846e659de"
      },
      "outputs": [
        {
          "data": {
            "text/plain": [
              "64.6757332614119"
            ]
          },
          "execution_count": 74,
          "metadata": {},
          "output_type": "execute_result"
        }
      ],
      "source": [
        "# Display the mean math score using the mean function\n",
        "student_df['math_score'].mean()"
      ]
    },
    {
      "cell_type": "code",
      "execution_count": null,
      "id": "37ecf181",
      "metadata": {
        "colab": {
          "base_uri": "https://localhost:8080/"
        },
        "id": "37ecf181",
        "outputId": "2bc1bf60-85ce-41cf-cbc7-10fe545e4bd3"
      },
      "outputs": [
        {
          "data": {
            "text/plain": [
              "10.5"
            ]
          },
          "execution_count": 76,
          "metadata": {},
          "output_type": "execute_result"
        }
      ],
      "source": [
        "# Store the minimum reading score as min_reading_score\n",
        "min_reading_score = min(student_df['reading_score'])\n",
        "min_reading_score"
      ]
    },
    {
      "cell_type": "markdown",
      "id": "e871f21e-6077-4d70-9c3a-926759d46bed",
      "metadata": {
        "id": "e871f21e-6077-4d70-9c3a-926759d46bed"
      },
      "source": [
        "## Deliverable 4: Drill Down into the Data\n",
        "\n",
        "Drill down to specific rows, columns, and subsets of the data.\n",
        "\n",
        "To drill down into the data, complete the following steps:\n",
        "\n",
        "1. Use `loc` to display the grade column.\n",
        "\n",
        "2. Use `iloc` to display the first 3 rows and columns 3, 4, and 5.\n",
        "\n",
        "3. Show the rows for grade nine using `loc`.\n",
        "\n",
        "4. Store the row with the minimum overall reading score as `min_reading_row` using `loc` and the `min_reading_score` found in Deliverable 3.\n",
        "\n",
        "5. Find the reading scores for the school and grade from the output of step three using `loc` with multiple conditional statements.\n",
        "\n",
        "6. Using conditional statements and `loc` or `iloc`, find the mean reading score for all students in grades 11 and 12 combined."
      ]
    },
    {
      "cell_type": "code",
      "execution_count": null,
      "id": "78464611",
      "metadata": {
        "colab": {
          "base_uri": "https://localhost:8080/"
        },
        "id": "78464611",
        "outputId": "b38fb024-c8c0-4094-9205-632aa6aea33b"
      },
      "outputs": [
        {
          "data": {
            "text/plain": [
              "0         9\n",
              "1         9\n",
              "2         9\n",
              "3         9\n",
              "5         9\n",
              "         ..\n",
              "19508    10\n",
              "19509    12\n",
              "19511    11\n",
              "19512    11\n",
              "19513    12\n",
              "Name: grade, Length: 14831, dtype: int8"
            ]
          },
          "execution_count": 84,
          "metadata": {},
          "output_type": "execute_result"
        }
      ],
      "source": [
        "# Use loc to display the grade column\n",
        "student_df['grade'].loc[:]"
      ]
    },
    {
      "cell_type": "code",
      "execution_count": null,
      "id": "ff0fd7cb",
      "metadata": {
        "colab": {
          "base_uri": "https://localhost:8080/",
          "height": 143
        },
        "id": "ff0fd7cb",
        "outputId": "c937b164-7f66-4608-8ddb-3401984cacee"
      },
      "outputs": [
        {
          "data": {
            "text/html": [
              "\n",
              "  <div id=\"df-4c35aeb2-b9df-4c32-b724-ad7085e6f6d7\">\n",
              "    <div class=\"colab-df-container\">\n",
              "      <div>\n",
              "<style scoped>\n",
              "    .dataframe tbody tr th:only-of-type {\n",
              "        vertical-align: middle;\n",
              "    }\n",
              "\n",
              "    .dataframe tbody tr th {\n",
              "        vertical-align: top;\n",
              "    }\n",
              "\n",
              "    .dataframe thead th {\n",
              "        text-align: right;\n",
              "    }\n",
              "</style>\n",
              "<table border=\"1\" class=\"dataframe\">\n",
              "  <thead>\n",
              "    <tr style=\"text-align: right;\">\n",
              "      <th></th>\n",
              "      <th>school_name</th>\n",
              "      <th>reading_score</th>\n",
              "      <th>math_score</th>\n",
              "    </tr>\n",
              "  </thead>\n",
              "  <tbody>\n",
              "    <tr>\n",
              "      <th>0</th>\n",
              "      <td>Sullivan High School</td>\n",
              "      <td>59.0</td>\n",
              "      <td>88.2</td>\n",
              "    </tr>\n",
              "    <tr>\n",
              "      <th>1</th>\n",
              "      <td>Dixon High School</td>\n",
              "      <td>94.7</td>\n",
              "      <td>73.5</td>\n",
              "    </tr>\n",
              "    <tr>\n",
              "      <th>2</th>\n",
              "      <td>Wagner High School</td>\n",
              "      <td>89.0</td>\n",
              "      <td>70.4</td>\n",
              "    </tr>\n",
              "  </tbody>\n",
              "</table>\n",
              "</div>\n",
              "      <button class=\"colab-df-convert\" onclick=\"convertToInteractive('df-4c35aeb2-b9df-4c32-b724-ad7085e6f6d7')\"\n",
              "              title=\"Convert this dataframe to an interactive table.\"\n",
              "              style=\"display:none;\">\n",
              "        \n",
              "  <svg xmlns=\"http://www.w3.org/2000/svg\" height=\"24px\"viewBox=\"0 0 24 24\"\n",
              "       width=\"24px\">\n",
              "    <path d=\"M0 0h24v24H0V0z\" fill=\"none\"/>\n",
              "    <path d=\"M18.56 5.44l.94 2.06.94-2.06 2.06-.94-2.06-.94-.94-2.06-.94 2.06-2.06.94zm-11 1L8.5 8.5l.94-2.06 2.06-.94-2.06-.94L8.5 2.5l-.94 2.06-2.06.94zm10 10l.94 2.06.94-2.06 2.06-.94-2.06-.94-.94-2.06-.94 2.06-2.06.94z\"/><path d=\"M17.41 7.96l-1.37-1.37c-.4-.4-.92-.59-1.43-.59-.52 0-1.04.2-1.43.59L10.3 9.45l-7.72 7.72c-.78.78-.78 2.05 0 2.83L4 21.41c.39.39.9.59 1.41.59.51 0 1.02-.2 1.41-.59l7.78-7.78 2.81-2.81c.8-.78.8-2.07 0-2.86zM5.41 20L4 18.59l7.72-7.72 1.47 1.35L5.41 20z\"/>\n",
              "  </svg>\n",
              "      </button>\n",
              "      \n",
              "  <style>\n",
              "    .colab-df-container {\n",
              "      display:flex;\n",
              "      flex-wrap:wrap;\n",
              "      gap: 12px;\n",
              "    }\n",
              "\n",
              "    .colab-df-convert {\n",
              "      background-color: #E8F0FE;\n",
              "      border: none;\n",
              "      border-radius: 50%;\n",
              "      cursor: pointer;\n",
              "      display: none;\n",
              "      fill: #1967D2;\n",
              "      height: 32px;\n",
              "      padding: 0 0 0 0;\n",
              "      width: 32px;\n",
              "    }\n",
              "\n",
              "    .colab-df-convert:hover {\n",
              "      background-color: #E2EBFA;\n",
              "      box-shadow: 0px 1px 2px rgba(60, 64, 67, 0.3), 0px 1px 3px 1px rgba(60, 64, 67, 0.15);\n",
              "      fill: #174EA6;\n",
              "    }\n",
              "\n",
              "    [theme=dark] .colab-df-convert {\n",
              "      background-color: #3B4455;\n",
              "      fill: #D2E3FC;\n",
              "    }\n",
              "\n",
              "    [theme=dark] .colab-df-convert:hover {\n",
              "      background-color: #434B5C;\n",
              "      box-shadow: 0px 1px 3px 1px rgba(0, 0, 0, 0.15);\n",
              "      filter: drop-shadow(0px 1px 2px rgba(0, 0, 0, 0.3));\n",
              "      fill: #FFFFFF;\n",
              "    }\n",
              "  </style>\n",
              "\n",
              "      <script>\n",
              "        const buttonEl =\n",
              "          document.querySelector('#df-4c35aeb2-b9df-4c32-b724-ad7085e6f6d7 button.colab-df-convert');\n",
              "        buttonEl.style.display =\n",
              "          google.colab.kernel.accessAllowed ? 'block' : 'none';\n",
              "\n",
              "        async function convertToInteractive(key) {\n",
              "          const element = document.querySelector('#df-4c35aeb2-b9df-4c32-b724-ad7085e6f6d7');\n",
              "          const dataTable =\n",
              "            await google.colab.kernel.invokeFunction('convertToInteractive',\n",
              "                                                     [key], {});\n",
              "          if (!dataTable) return;\n",
              "\n",
              "          const docLinkHtml = 'Like what you see? Visit the ' +\n",
              "            '<a target=\"_blank\" href=https://colab.research.google.com/notebooks/data_table.ipynb>data table notebook</a>'\n",
              "            + ' to learn more about interactive tables.';\n",
              "          element.innerHTML = '';\n",
              "          dataTable['output_type'] = 'display_data';\n",
              "          await google.colab.output.renderOutput(dataTable, element);\n",
              "          const docLink = document.createElement('div');\n",
              "          docLink.innerHTML = docLinkHtml;\n",
              "          element.appendChild(docLink);\n",
              "        }\n",
              "      </script>\n",
              "    </div>\n",
              "  </div>\n",
              "  "
            ],
            "text/plain": [
              "            school_name  reading_score  math_score\n",
              "0  Sullivan High School           59.0        88.2\n",
              "1     Dixon High School           94.7        73.5\n",
              "2    Wagner High School           89.0        70.4"
            ]
          },
          "execution_count": 88,
          "metadata": {},
          "output_type": "execute_result"
        }
      ],
      "source": [
        "# Use `iloc` to display the first 3 rows and columns 3, 4, and 5.\n",
        "student_df.iloc[[0,1,2],[3,4,5]]"
      ]
    },
    {
      "cell_type": "code",
      "execution_count": null,
      "id": "edb8027e",
      "metadata": {
        "id": "edb8027e",
        "outputId": "d9868daf-394c-43cf-b1d2-77daa71ab165"
      },
      "outputs": [
        {
          "data": {
            "text/html": [
              "<div>\n",
              "<style scoped>\n",
              "    .dataframe tbody tr th:only-of-type {\n",
              "        vertical-align: middle;\n",
              "    }\n",
              "\n",
              "    .dataframe tbody tr th {\n",
              "        vertical-align: top;\n",
              "    }\n",
              "\n",
              "    .dataframe thead th {\n",
              "        text-align: right;\n",
              "    }\n",
              "</style>\n",
              "<table border=\"1\" class=\"dataframe\">\n",
              "  <thead>\n",
              "    <tr style=\"text-align: right;\">\n",
              "      <th></th>\n",
              "      <th>student_id</th>\n",
              "      <th>grade</th>\n",
              "      <th>reading_score</th>\n",
              "      <th>math_score</th>\n",
              "      <th>school_budget</th>\n",
              "    </tr>\n",
              "  </thead>\n",
              "  <tbody>\n",
              "    <tr>\n",
              "      <th>count</th>\n",
              "      <td>4.132000e+03</td>\n",
              "      <td>4132.0</td>\n",
              "      <td>4132.000000</td>\n",
              "      <td>4132.000000</td>\n",
              "      <td>4132.000000</td>\n",
              "    </tr>\n",
              "    <tr>\n",
              "      <th>mean</th>\n",
              "      <td>6.979441e+07</td>\n",
              "      <td>9.0</td>\n",
              "      <td>69.236713</td>\n",
              "      <td>66.585624</td>\n",
              "      <td>898692.606002</td>\n",
              "    </tr>\n",
              "    <tr>\n",
              "      <th>std</th>\n",
              "      <td>3.470565e+07</td>\n",
              "      <td>0.0</td>\n",
              "      <td>15.277354</td>\n",
              "      <td>16.661533</td>\n",
              "      <td>54891.596611</td>\n",
              "    </tr>\n",
              "    <tr>\n",
              "      <th>min</th>\n",
              "      <td>1.000906e+07</td>\n",
              "      <td>9.0</td>\n",
              "      <td>17.900000</td>\n",
              "      <td>5.300000</td>\n",
              "      <td>817615.000000</td>\n",
              "    </tr>\n",
              "    <tr>\n",
              "      <th>25%</th>\n",
              "      <td>3.953848e+07</td>\n",
              "      <td>9.0</td>\n",
              "      <td>59.000000</td>\n",
              "      <td>56.000000</td>\n",
              "      <td>846745.000000</td>\n",
              "    </tr>\n",
              "    <tr>\n",
              "      <th>50%</th>\n",
              "      <td>6.984037e+07</td>\n",
              "      <td>9.0</td>\n",
              "      <td>70.050000</td>\n",
              "      <td>67.800000</td>\n",
              "      <td>893368.000000</td>\n",
              "    </tr>\n",
              "    <tr>\n",
              "      <th>75%</th>\n",
              "      <td>9.939504e+07</td>\n",
              "      <td>9.0</td>\n",
              "      <td>80.500000</td>\n",
              "      <td>78.500000</td>\n",
              "      <td>957299.000000</td>\n",
              "    </tr>\n",
              "    <tr>\n",
              "      <th>max</th>\n",
              "      <td>1.299997e+08</td>\n",
              "      <td>9.0</td>\n",
              "      <td>99.900000</td>\n",
              "      <td>100.000000</td>\n",
              "      <td>991918.000000</td>\n",
              "    </tr>\n",
              "  </tbody>\n",
              "</table>\n",
              "</div>"
            ],
            "text/plain": [
              "         student_id   grade  reading_score   math_score  school_budget\n",
              "count  4.132000e+03  4132.0    4132.000000  4132.000000    4132.000000\n",
              "mean   6.979441e+07     9.0      69.236713    66.585624  898692.606002\n",
              "std    3.470565e+07     0.0      15.277354    16.661533   54891.596611\n",
              "min    1.000906e+07     9.0      17.900000     5.300000  817615.000000\n",
              "25%    3.953848e+07     9.0      59.000000    56.000000  846745.000000\n",
              "50%    6.984037e+07     9.0      70.050000    67.800000  893368.000000\n",
              "75%    9.939504e+07     9.0      80.500000    78.500000  957299.000000\n",
              "max    1.299997e+08     9.0      99.900000   100.000000  991918.000000"
            ]
          },
          "execution_count": 17,
          "metadata": {},
          "output_type": "execute_result"
        }
      ],
      "source": [
        "# Select the rows for grade nine and display their summary statistics using `loc` and `describe`.\n",
        "student_df['grade'].loc[9].describe()"
      ]
    },
    {
      "cell_type": "code",
      "execution_count": null,
      "id": "e40b203d-6597-487a-82cf-157731148084",
      "metadata": {
        "colab": {
          "base_uri": "https://localhost:8080/"
        },
        "id": "e40b203d-6597-487a-82cf-157731148084",
        "outputId": "81411b78-ddac-494e-ff2a-b4756e14ae91"
      },
      "outputs": [
        {
          "data": {
            "text/plain": [
              "student_id                81758630\n",
              "student_name        Matthew Thomas\n",
              "grade                           10\n",
              "school_name      Dixon High School\n",
              "reading_score                 10.5\n",
              "math_score                    58.4\n",
              "school_type                Charter\n",
              "school_budget               870334\n",
              "Name: 10.5, dtype: object"
            ]
          },
          "execution_count": 103,
          "metadata": {},
          "output_type": "execute_result"
        }
      ],
      "source": [
        "# Store the row with the minimum overall reading score as `min_reading_row`\n",
        "# using `loc` and the `min_reading_score` found in Deliverable 3.\n",
        "min_reading_score = student_df.loc[10.5]\n",
        "min_reading_score"
      ]
    },
    {
      "cell_type": "code",
      "execution_count": null,
      "id": "f4a44f87-acb8-423e-95ca-88e6f644eeb2",
      "metadata": {
        "colab": {
          "base_uri": "https://localhost:8080/",
          "height": 455
        },
        "id": "f4a44f87-acb8-423e-95ca-88e6f644eeb2",
        "outputId": "2f1e4645-4899-4e4a-f10e-d56d82123fc6"
      },
      "outputs": [
        {
          "data": {
            "text/html": [
              "\n",
              "  <div id=\"df-a9105b7e-59cf-469f-8f1b-95848cf22592\">\n",
              "    <div class=\"colab-df-container\">\n",
              "      <div>\n",
              "<style scoped>\n",
              "    .dataframe tbody tr th:only-of-type {\n",
              "        vertical-align: middle;\n",
              "    }\n",
              "\n",
              "    .dataframe tbody tr th {\n",
              "        vertical-align: top;\n",
              "    }\n",
              "\n",
              "    .dataframe thead th {\n",
              "        text-align: right;\n",
              "    }\n",
              "</style>\n",
              "<table border=\"1\" class=\"dataframe\">\n",
              "  <thead>\n",
              "    <tr style=\"text-align: right;\">\n",
              "      <th></th>\n",
              "      <th>school_name</th>\n",
              "      <th>reading_score</th>\n",
              "    </tr>\n",
              "    <tr>\n",
              "      <th>reading_score</th>\n",
              "      <th></th>\n",
              "      <th></th>\n",
              "    </tr>\n",
              "  </thead>\n",
              "  <tbody>\n",
              "    <tr>\n",
              "      <th>71.1</th>\n",
              "      <td>Dixon High School</td>\n",
              "      <td>71.1</td>\n",
              "    </tr>\n",
              "    <tr>\n",
              "      <th>59.5</th>\n",
              "      <td>Dixon High School</td>\n",
              "      <td>59.5</td>\n",
              "    </tr>\n",
              "    <tr>\n",
              "      <th>88.6</th>\n",
              "      <td>Dixon High School</td>\n",
              "      <td>88.6</td>\n",
              "    </tr>\n",
              "    <tr>\n",
              "      <th>81.5</th>\n",
              "      <td>Dixon High School</td>\n",
              "      <td>81.5</td>\n",
              "    </tr>\n",
              "    <tr>\n",
              "      <th>95.3</th>\n",
              "      <td>Dixon High School</td>\n",
              "      <td>95.3</td>\n",
              "    </tr>\n",
              "    <tr>\n",
              "      <th>...</th>\n",
              "      <td>...</td>\n",
              "      <td>...</td>\n",
              "    </tr>\n",
              "    <tr>\n",
              "      <th>52.9</th>\n",
              "      <td>Dixon High School</td>\n",
              "      <td>52.9</td>\n",
              "    </tr>\n",
              "    <tr>\n",
              "      <th>58.0</th>\n",
              "      <td>Dixon High School</td>\n",
              "      <td>58.0</td>\n",
              "    </tr>\n",
              "    <tr>\n",
              "      <th>38.0</th>\n",
              "      <td>Dixon High School</td>\n",
              "      <td>38.0</td>\n",
              "    </tr>\n",
              "    <tr>\n",
              "      <th>84.4</th>\n",
              "      <td>Dixon High School</td>\n",
              "      <td>84.4</td>\n",
              "    </tr>\n",
              "    <tr>\n",
              "      <th>43.9</th>\n",
              "      <td>Dixon High School</td>\n",
              "      <td>43.9</td>\n",
              "    </tr>\n",
              "  </tbody>\n",
              "</table>\n",
              "<p>569 rows × 2 columns</p>\n",
              "</div>\n",
              "      <button class=\"colab-df-convert\" onclick=\"convertToInteractive('df-a9105b7e-59cf-469f-8f1b-95848cf22592')\"\n",
              "              title=\"Convert this dataframe to an interactive table.\"\n",
              "              style=\"display:none;\">\n",
              "        \n",
              "  <svg xmlns=\"http://www.w3.org/2000/svg\" height=\"24px\"viewBox=\"0 0 24 24\"\n",
              "       width=\"24px\">\n",
              "    <path d=\"M0 0h24v24H0V0z\" fill=\"none\"/>\n",
              "    <path d=\"M18.56 5.44l.94 2.06.94-2.06 2.06-.94-2.06-.94-.94-2.06-.94 2.06-2.06.94zm-11 1L8.5 8.5l.94-2.06 2.06-.94-2.06-.94L8.5 2.5l-.94 2.06-2.06.94zm10 10l.94 2.06.94-2.06 2.06-.94-2.06-.94-.94-2.06-.94 2.06-2.06.94z\"/><path d=\"M17.41 7.96l-1.37-1.37c-.4-.4-.92-.59-1.43-.59-.52 0-1.04.2-1.43.59L10.3 9.45l-7.72 7.72c-.78.78-.78 2.05 0 2.83L4 21.41c.39.39.9.59 1.41.59.51 0 1.02-.2 1.41-.59l7.78-7.78 2.81-2.81c.8-.78.8-2.07 0-2.86zM5.41 20L4 18.59l7.72-7.72 1.47 1.35L5.41 20z\"/>\n",
              "  </svg>\n",
              "      </button>\n",
              "      \n",
              "  <style>\n",
              "    .colab-df-container {\n",
              "      display:flex;\n",
              "      flex-wrap:wrap;\n",
              "      gap: 12px;\n",
              "    }\n",
              "\n",
              "    .colab-df-convert {\n",
              "      background-color: #E8F0FE;\n",
              "      border: none;\n",
              "      border-radius: 50%;\n",
              "      cursor: pointer;\n",
              "      display: none;\n",
              "      fill: #1967D2;\n",
              "      height: 32px;\n",
              "      padding: 0 0 0 0;\n",
              "      width: 32px;\n",
              "    }\n",
              "\n",
              "    .colab-df-convert:hover {\n",
              "      background-color: #E2EBFA;\n",
              "      box-shadow: 0px 1px 2px rgba(60, 64, 67, 0.3), 0px 1px 3px 1px rgba(60, 64, 67, 0.15);\n",
              "      fill: #174EA6;\n",
              "    }\n",
              "\n",
              "    [theme=dark] .colab-df-convert {\n",
              "      background-color: #3B4455;\n",
              "      fill: #D2E3FC;\n",
              "    }\n",
              "\n",
              "    [theme=dark] .colab-df-convert:hover {\n",
              "      background-color: #434B5C;\n",
              "      box-shadow: 0px 1px 3px 1px rgba(0, 0, 0, 0.15);\n",
              "      filter: drop-shadow(0px 1px 2px rgba(0, 0, 0, 0.3));\n",
              "      fill: #FFFFFF;\n",
              "    }\n",
              "  </style>\n",
              "\n",
              "      <script>\n",
              "        const buttonEl =\n",
              "          document.querySelector('#df-a9105b7e-59cf-469f-8f1b-95848cf22592 button.colab-df-convert');\n",
              "        buttonEl.style.display =\n",
              "          google.colab.kernel.accessAllowed ? 'block' : 'none';\n",
              "\n",
              "        async function convertToInteractive(key) {\n",
              "          const element = document.querySelector('#df-a9105b7e-59cf-469f-8f1b-95848cf22592');\n",
              "          const dataTable =\n",
              "            await google.colab.kernel.invokeFunction('convertToInteractive',\n",
              "                                                     [key], {});\n",
              "          if (!dataTable) return;\n",
              "\n",
              "          const docLinkHtml = 'Like what you see? Visit the ' +\n",
              "            '<a target=\"_blank\" href=https://colab.research.google.com/notebooks/data_table.ipynb>data table notebook</a>'\n",
              "            + ' to learn more about interactive tables.';\n",
              "          element.innerHTML = '';\n",
              "          dataTable['output_type'] = 'display_data';\n",
              "          await google.colab.output.renderOutput(dataTable, element);\n",
              "          const docLink = document.createElement('div');\n",
              "          docLink.innerHTML = docLinkHtml;\n",
              "          element.appendChild(docLink);\n",
              "        }\n",
              "      </script>\n",
              "    </div>\n",
              "  </div>\n",
              "  "
            ],
            "text/plain": [
              "                     school_name  reading_score\n",
              "reading_score                                  \n",
              "71.1           Dixon High School           71.1\n",
              "59.5           Dixon High School           59.5\n",
              "88.6           Dixon High School           88.6\n",
              "81.5           Dixon High School           81.5\n",
              "95.3           Dixon High School           95.3\n",
              "...                          ...            ...\n",
              "52.9           Dixon High School           52.9\n",
              "58.0           Dixon High School           58.0\n",
              "38.0           Dixon High School           38.0\n",
              "84.4           Dixon High School           84.4\n",
              "43.9           Dixon High School           43.9\n",
              "\n",
              "[569 rows x 2 columns]"
            ]
          },
          "execution_count": 108,
          "metadata": {},
          "output_type": "execute_result"
        }
      ],
      "source": [
        "# Use loc with conditionals to select all reading scores from 10th graders at Dixon High School.\n",
        "student_df.loc[(student_df['school_name'] == 'Dixon High School') & (student_df['grade'] == 10) , ['school_name','reading_score']]"
      ]
    },
    {
      "cell_type": "code",
      "execution_count": null,
      "id": "d6c2a244-c8aa-4cf6-a1e2-ddace72666eb",
      "metadata": {
        "colab": {
          "base_uri": "https://localhost:8080/"
        },
        "id": "d6c2a244-c8aa-4cf6-a1e2-ddace72666eb",
        "outputId": "e48f9040-a98c-44d9-9257-a46664ae681c"
      },
      "outputs": [
        {
          "data": {
            "text/plain": [
              "74.90038089192191"
            ]
          },
          "execution_count": 121,
          "metadata": {},
          "output_type": "execute_result"
        }
      ],
      "source": [
        "# Find the mean reading score for all students in grades 11 and 12 combined.\n",
        "student_df.loc[(student_df['grade'] == 11) | (student_df['grade'] == 12)].reading_score.mean()"
      ]
    },
    {
      "cell_type": "markdown",
      "id": "177ba341-9b50-4244-93fa-3646120daf51",
      "metadata": {
        "id": "177ba341-9b50-4244-93fa-3646120daf51"
      },
      "source": [
        "## Deliverable 5: Make Comparisons Between District and Charter Schools\n",
        "\n",
        "Compare district vs charter schools for budget, size, and scores.\n",
        "\n",
        "Make comparisons within your data by completing the following steps:\n",
        "\n",
        "1. Using the `groupby` and `mean` functions, look at the average reading and math scores per school type.\n",
        "\n",
        "1. Using the `groupby` and `count` functions, find the total number of students at each school.\n",
        "\n",
        "2. Using the `groupby` and `mean` functions, find the average budget per grade for each school type."
      ]
    },
    {
      "cell_type": "code",
      "execution_count": null,
      "id": "8eac115a-c392-446c-ad83-456d0f87eca7",
      "metadata": {
        "colab": {
          "base_uri": "https://localhost:8080/",
          "height": 143
        },
        "id": "8eac115a-c392-446c-ad83-456d0f87eca7",
        "outputId": "bb55012c-9a75-4bf0-ed67-0af83baa0803"
      },
      "outputs": [
        {
          "data": {
            "text/html": [
              "\n",
              "  <div id=\"df-6e2103ab-8311-4a3a-bd4e-3d92d5077257\">\n",
              "    <div class=\"colab-df-container\">\n",
              "      <div>\n",
              "<style scoped>\n",
              "    .dataframe tbody tr th:only-of-type {\n",
              "        vertical-align: middle;\n",
              "    }\n",
              "\n",
              "    .dataframe tbody tr th {\n",
              "        vertical-align: top;\n",
              "    }\n",
              "\n",
              "    .dataframe thead th {\n",
              "        text-align: right;\n",
              "    }\n",
              "</style>\n",
              "<table border=\"1\" class=\"dataframe\">\n",
              "  <thead>\n",
              "    <tr style=\"text-align: right;\">\n",
              "      <th></th>\n",
              "      <th>student_id</th>\n",
              "      <th>grade</th>\n",
              "      <th>reading_score</th>\n",
              "      <th>math_score</th>\n",
              "      <th>school_budget</th>\n",
              "    </tr>\n",
              "    <tr>\n",
              "      <th>school_type</th>\n",
              "      <th></th>\n",
              "      <th></th>\n",
              "      <th></th>\n",
              "      <th></th>\n",
              "      <th></th>\n",
              "    </tr>\n",
              "  </thead>\n",
              "  <tbody>\n",
              "    <tr>\n",
              "      <th>Charter</th>\n",
              "      <td>7.004029e+07</td>\n",
              "      <td>10.346744</td>\n",
              "      <td>72.450603</td>\n",
              "      <td>66.761883</td>\n",
              "      <td>872625.656236</td>\n",
              "    </tr>\n",
              "    <tr>\n",
              "      <th>Public</th>\n",
              "      <td>6.951549e+07</td>\n",
              "      <td>10.362808</td>\n",
              "      <td>72.281219</td>\n",
              "      <td>62.951576</td>\n",
              "      <td>911195.558251</td>\n",
              "    </tr>\n",
              "  </tbody>\n",
              "</table>\n",
              "</div>\n",
              "      <button class=\"colab-df-convert\" onclick=\"convertToInteractive('df-6e2103ab-8311-4a3a-bd4e-3d92d5077257')\"\n",
              "              title=\"Convert this dataframe to an interactive table.\"\n",
              "              style=\"display:none;\">\n",
              "        \n",
              "  <svg xmlns=\"http://www.w3.org/2000/svg\" height=\"24px\"viewBox=\"0 0 24 24\"\n",
              "       width=\"24px\">\n",
              "    <path d=\"M0 0h24v24H0V0z\" fill=\"none\"/>\n",
              "    <path d=\"M18.56 5.44l.94 2.06.94-2.06 2.06-.94-2.06-.94-.94-2.06-.94 2.06-2.06.94zm-11 1L8.5 8.5l.94-2.06 2.06-.94-2.06-.94L8.5 2.5l-.94 2.06-2.06.94zm10 10l.94 2.06.94-2.06 2.06-.94-2.06-.94-.94-2.06-.94 2.06-2.06.94z\"/><path d=\"M17.41 7.96l-1.37-1.37c-.4-.4-.92-.59-1.43-.59-.52 0-1.04.2-1.43.59L10.3 9.45l-7.72 7.72c-.78.78-.78 2.05 0 2.83L4 21.41c.39.39.9.59 1.41.59.51 0 1.02-.2 1.41-.59l7.78-7.78 2.81-2.81c.8-.78.8-2.07 0-2.86zM5.41 20L4 18.59l7.72-7.72 1.47 1.35L5.41 20z\"/>\n",
              "  </svg>\n",
              "      </button>\n",
              "      \n",
              "  <style>\n",
              "    .colab-df-container {\n",
              "      display:flex;\n",
              "      flex-wrap:wrap;\n",
              "      gap: 12px;\n",
              "    }\n",
              "\n",
              "    .colab-df-convert {\n",
              "      background-color: #E8F0FE;\n",
              "      border: none;\n",
              "      border-radius: 50%;\n",
              "      cursor: pointer;\n",
              "      display: none;\n",
              "      fill: #1967D2;\n",
              "      height: 32px;\n",
              "      padding: 0 0 0 0;\n",
              "      width: 32px;\n",
              "    }\n",
              "\n",
              "    .colab-df-convert:hover {\n",
              "      background-color: #E2EBFA;\n",
              "      box-shadow: 0px 1px 2px rgba(60, 64, 67, 0.3), 0px 1px 3px 1px rgba(60, 64, 67, 0.15);\n",
              "      fill: #174EA6;\n",
              "    }\n",
              "\n",
              "    [theme=dark] .colab-df-convert {\n",
              "      background-color: #3B4455;\n",
              "      fill: #D2E3FC;\n",
              "    }\n",
              "\n",
              "    [theme=dark] .colab-df-convert:hover {\n",
              "      background-color: #434B5C;\n",
              "      box-shadow: 0px 1px 3px 1px rgba(0, 0, 0, 0.15);\n",
              "      filter: drop-shadow(0px 1px 2px rgba(0, 0, 0, 0.3));\n",
              "      fill: #FFFFFF;\n",
              "    }\n",
              "  </style>\n",
              "\n",
              "      <script>\n",
              "        const buttonEl =\n",
              "          document.querySelector('#df-6e2103ab-8311-4a3a-bd4e-3d92d5077257 button.colab-df-convert');\n",
              "        buttonEl.style.display =\n",
              "          google.colab.kernel.accessAllowed ? 'block' : 'none';\n",
              "\n",
              "        async function convertToInteractive(key) {\n",
              "          const element = document.querySelector('#df-6e2103ab-8311-4a3a-bd4e-3d92d5077257');\n",
              "          const dataTable =\n",
              "            await google.colab.kernel.invokeFunction('convertToInteractive',\n",
              "                                                     [key], {});\n",
              "          if (!dataTable) return;\n",
              "\n",
              "          const docLinkHtml = 'Like what you see? Visit the ' +\n",
              "            '<a target=\"_blank\" href=https://colab.research.google.com/notebooks/data_table.ipynb>data table notebook</a>'\n",
              "            + ' to learn more about interactive tables.';\n",
              "          element.innerHTML = '';\n",
              "          dataTable['output_type'] = 'display_data';\n",
              "          await google.colab.output.renderOutput(dataTable, element);\n",
              "          const docLink = document.createElement('div');\n",
              "          docLink.innerHTML = docLinkHtml;\n",
              "          element.appendChild(docLink);\n",
              "        }\n",
              "      </script>\n",
              "    </div>\n",
              "  </div>\n",
              "  "
            ],
            "text/plain": [
              "               student_id      grade  reading_score  math_score  school_budget\n",
              "school_type                                                                   \n",
              "Charter      7.004029e+07  10.346744      72.450603   66.761883  872625.656236\n",
              "Public       6.951549e+07  10.362808      72.281219   62.951576  911195.558251"
            ]
          },
          "execution_count": 138,
          "metadata": {},
          "output_type": "execute_result"
        }
      ],
      "source": [
        "# Use groupby and mean to find the average reading and math scores for each school type.\n",
        "student_df.groupby('school_type').mean()"
      ]
    },
    {
      "cell_type": "code",
      "execution_count": null,
      "id": "a3ee96e8-d653-44b1-811f-979880649046",
      "metadata": {
        "colab": {
          "base_uri": "https://localhost:8080/",
          "height": 520
        },
        "id": "a3ee96e8-d653-44b1-811f-979880649046",
        "outputId": "b2a01120-f584-48e3-ba73-5f56d6016ea0"
      },
      "outputs": [
        {
          "data": {
            "text/html": [
              "\n",
              "  <div id=\"df-4fbe606a-3114-4598-95cd-544e09f76c63\">\n",
              "    <div class=\"colab-df-container\">\n",
              "      <div>\n",
              "<style scoped>\n",
              "    .dataframe tbody tr th:only-of-type {\n",
              "        vertical-align: middle;\n",
              "    }\n",
              "\n",
              "    .dataframe tbody tr th {\n",
              "        vertical-align: top;\n",
              "    }\n",
              "\n",
              "    .dataframe thead th {\n",
              "        text-align: right;\n",
              "    }\n",
              "</style>\n",
              "<table border=\"1\" class=\"dataframe\">\n",
              "  <thead>\n",
              "    <tr style=\"text-align: right;\">\n",
              "      <th></th>\n",
              "      <th>school_name</th>\n",
              "      <th>student_count</th>\n",
              "    </tr>\n",
              "  </thead>\n",
              "  <tbody>\n",
              "    <tr>\n",
              "      <th>7</th>\n",
              "      <td>Montgomery High School</td>\n",
              "      <td>2038</td>\n",
              "    </tr>\n",
              "    <tr>\n",
              "      <th>6</th>\n",
              "      <td>Green High School</td>\n",
              "      <td>1961</td>\n",
              "    </tr>\n",
              "    <tr>\n",
              "      <th>4</th>\n",
              "      <td>Dixon High School</td>\n",
              "      <td>1583</td>\n",
              "    </tr>\n",
              "    <tr>\n",
              "      <th>13</th>\n",
              "      <td>Wagner High School</td>\n",
              "      <td>1541</td>\n",
              "    </tr>\n",
              "    <tr>\n",
              "      <th>10</th>\n",
              "      <td>Silva High School</td>\n",
              "      <td>1109</td>\n",
              "    </tr>\n",
              "    <tr>\n",
              "      <th>14</th>\n",
              "      <td>Woods High School</td>\n",
              "      <td>1052</td>\n",
              "    </tr>\n",
              "    <tr>\n",
              "      <th>11</th>\n",
              "      <td>Sullivan High School</td>\n",
              "      <td>971</td>\n",
              "    </tr>\n",
              "    <tr>\n",
              "      <th>12</th>\n",
              "      <td>Turner High School</td>\n",
              "      <td>846</td>\n",
              "    </tr>\n",
              "    <tr>\n",
              "      <th>0</th>\n",
              "      <td>Bowers High School</td>\n",
              "      <td>803</td>\n",
              "    </tr>\n",
              "    <tr>\n",
              "      <th>5</th>\n",
              "      <td>Fisher High School</td>\n",
              "      <td>798</td>\n",
              "    </tr>\n",
              "    <tr>\n",
              "      <th>9</th>\n",
              "      <td>Richard High School</td>\n",
              "      <td>551</td>\n",
              "    </tr>\n",
              "    <tr>\n",
              "      <th>2</th>\n",
              "      <td>Campos High School</td>\n",
              "      <td>541</td>\n",
              "    </tr>\n",
              "    <tr>\n",
              "      <th>8</th>\n",
              "      <td>Odonnell High School</td>\n",
              "      <td>459</td>\n",
              "    </tr>\n",
              "    <tr>\n",
              "      <th>1</th>\n",
              "      <td>Campbell High School</td>\n",
              "      <td>407</td>\n",
              "    </tr>\n",
              "    <tr>\n",
              "      <th>3</th>\n",
              "      <td>Chang High School</td>\n",
              "      <td>171</td>\n",
              "    </tr>\n",
              "  </tbody>\n",
              "</table>\n",
              "</div>\n",
              "      <button class=\"colab-df-convert\" onclick=\"convertToInteractive('df-4fbe606a-3114-4598-95cd-544e09f76c63')\"\n",
              "              title=\"Convert this dataframe to an interactive table.\"\n",
              "              style=\"display:none;\">\n",
              "        \n",
              "  <svg xmlns=\"http://www.w3.org/2000/svg\" height=\"24px\"viewBox=\"0 0 24 24\"\n",
              "       width=\"24px\">\n",
              "    <path d=\"M0 0h24v24H0V0z\" fill=\"none\"/>\n",
              "    <path d=\"M18.56 5.44l.94 2.06.94-2.06 2.06-.94-2.06-.94-.94-2.06-.94 2.06-2.06.94zm-11 1L8.5 8.5l.94-2.06 2.06-.94-2.06-.94L8.5 2.5l-.94 2.06-2.06.94zm10 10l.94 2.06.94-2.06 2.06-.94-2.06-.94-.94-2.06-.94 2.06-2.06.94z\"/><path d=\"M17.41 7.96l-1.37-1.37c-.4-.4-.92-.59-1.43-.59-.52 0-1.04.2-1.43.59L10.3 9.45l-7.72 7.72c-.78.78-.78 2.05 0 2.83L4 21.41c.39.39.9.59 1.41.59.51 0 1.02-.2 1.41-.59l7.78-7.78 2.81-2.81c.8-.78.8-2.07 0-2.86zM5.41 20L4 18.59l7.72-7.72 1.47 1.35L5.41 20z\"/>\n",
              "  </svg>\n",
              "      </button>\n",
              "      \n",
              "  <style>\n",
              "    .colab-df-container {\n",
              "      display:flex;\n",
              "      flex-wrap:wrap;\n",
              "      gap: 12px;\n",
              "    }\n",
              "\n",
              "    .colab-df-convert {\n",
              "      background-color: #E8F0FE;\n",
              "      border: none;\n",
              "      border-radius: 50%;\n",
              "      cursor: pointer;\n",
              "      display: none;\n",
              "      fill: #1967D2;\n",
              "      height: 32px;\n",
              "      padding: 0 0 0 0;\n",
              "      width: 32px;\n",
              "    }\n",
              "\n",
              "    .colab-df-convert:hover {\n",
              "      background-color: #E2EBFA;\n",
              "      box-shadow: 0px 1px 2px rgba(60, 64, 67, 0.3), 0px 1px 3px 1px rgba(60, 64, 67, 0.15);\n",
              "      fill: #174EA6;\n",
              "    }\n",
              "\n",
              "    [theme=dark] .colab-df-convert {\n",
              "      background-color: #3B4455;\n",
              "      fill: #D2E3FC;\n",
              "    }\n",
              "\n",
              "    [theme=dark] .colab-df-convert:hover {\n",
              "      background-color: #434B5C;\n",
              "      box-shadow: 0px 1px 3px 1px rgba(0, 0, 0, 0.15);\n",
              "      filter: drop-shadow(0px 1px 2px rgba(0, 0, 0, 0.3));\n",
              "      fill: #FFFFFF;\n",
              "    }\n",
              "  </style>\n",
              "\n",
              "      <script>\n",
              "        const buttonEl =\n",
              "          document.querySelector('#df-4fbe606a-3114-4598-95cd-544e09f76c63 button.colab-df-convert');\n",
              "        buttonEl.style.display =\n",
              "          google.colab.kernel.accessAllowed ? 'block' : 'none';\n",
              "\n",
              "        async function convertToInteractive(key) {\n",
              "          const element = document.querySelector('#df-4fbe606a-3114-4598-95cd-544e09f76c63');\n",
              "          const dataTable =\n",
              "            await google.colab.kernel.invokeFunction('convertToInteractive',\n",
              "                                                     [key], {});\n",
              "          if (!dataTable) return;\n",
              "\n",
              "          const docLinkHtml = 'Like what you see? Visit the ' +\n",
              "            '<a target=\"_blank\" href=https://colab.research.google.com/notebooks/data_table.ipynb>data table notebook</a>'\n",
              "            + ' to learn more about interactive tables.';\n",
              "          element.innerHTML = '';\n",
              "          dataTable['output_type'] = 'display_data';\n",
              "          await google.colab.output.renderOutput(dataTable, element);\n",
              "          const docLink = document.createElement('div');\n",
              "          docLink.innerHTML = docLinkHtml;\n",
              "          element.appendChild(docLink);\n",
              "        }\n",
              "      </script>\n",
              "    </div>\n",
              "  </div>\n",
              "  "
            ],
            "text/plain": [
              "               school_name  student_count\n",
              "7   Montgomery High School           2038\n",
              "6        Green High School           1961\n",
              "4        Dixon High School           1583\n",
              "13      Wagner High School           1541\n",
              "10       Silva High School           1109\n",
              "14       Woods High School           1052\n",
              "11    Sullivan High School            971\n",
              "12      Turner High School            846\n",
              "0       Bowers High School            803\n",
              "5       Fisher High School            798\n",
              "9      Richard High School            551\n",
              "2       Campos High School            541\n",
              "8     Odonnell High School            459\n",
              "1     Campbell High School            407\n",
              "3        Chang High School            171"
            ]
          },
          "execution_count": 145,
          "metadata": {},
          "output_type": "execute_result"
        }
      ],
      "source": [
        "# Use the `groupby`, `count`, and `sort_values` functions to find the\n",
        "# total number of students at each school and sort from most students to least students.\n",
        "student_df.groupby('school_name')['student_id'].count().reset_index(name=\"student_count\").sort_values(by='student_count', ascending=False)"
      ]
    },
    {
      "cell_type": "code",
      "execution_count": null,
      "id": "3e9018ab-17db-431d-98ef-0c7195b647bb",
      "metadata": {
        "id": "3e9018ab-17db-431d-98ef-0c7195b647bb",
        "outputId": "dd3b28fb-45a6-4d44-cc8f-3ecfe55af2d1"
      },
      "outputs": [
        {
          "data": {
            "text/html": [
              "<div>\n",
              "<style scoped>\n",
              "    .dataframe tbody tr th:only-of-type {\n",
              "        vertical-align: middle;\n",
              "    }\n",
              "\n",
              "    .dataframe tbody tr th {\n",
              "        vertical-align: top;\n",
              "    }\n",
              "\n",
              "    .dataframe thead th {\n",
              "        text-align: right;\n",
              "    }\n",
              "</style>\n",
              "<table border=\"1\" class=\"dataframe\">\n",
              "  <thead>\n",
              "    <tr style=\"text-align: right;\">\n",
              "      <th></th>\n",
              "      <th></th>\n",
              "      <th>math_score</th>\n",
              "    </tr>\n",
              "    <tr>\n",
              "      <th>school_type</th>\n",
              "      <th>grade</th>\n",
              "      <th></th>\n",
              "    </tr>\n",
              "  </thead>\n",
              "  <tbody>\n",
              "    <tr>\n",
              "      <th rowspan=\"4\" valign=\"top\">Charter</th>\n",
              "      <th>9</th>\n",
              "      <td>70.0</td>\n",
              "    </tr>\n",
              "    <tr>\n",
              "      <th>10</th>\n",
              "      <td>66.0</td>\n",
              "    </tr>\n",
              "    <tr>\n",
              "      <th>11</th>\n",
              "      <td>68.0</td>\n",
              "    </tr>\n",
              "    <tr>\n",
              "      <th>12</th>\n",
              "      <td>60.0</td>\n",
              "    </tr>\n",
              "    <tr>\n",
              "      <th rowspan=\"4\" valign=\"top\">Public</th>\n",
              "      <th>9</th>\n",
              "      <td>64.0</td>\n",
              "    </tr>\n",
              "    <tr>\n",
              "      <th>10</th>\n",
              "      <td>64.0</td>\n",
              "    </tr>\n",
              "    <tr>\n",
              "      <th>11</th>\n",
              "      <td>59.0</td>\n",
              "    </tr>\n",
              "    <tr>\n",
              "      <th>12</th>\n",
              "      <td>64.0</td>\n",
              "    </tr>\n",
              "  </tbody>\n",
              "</table>\n",
              "</div>"
            ],
            "text/plain": [
              "                   math_score\n",
              "school_type grade            \n",
              "Charter     9            70.0\n",
              "            10           66.0\n",
              "            11           68.0\n",
              "            12           60.0\n",
              "Public      9            64.0\n",
              "            10           64.0\n",
              "            11           59.0\n",
              "            12           64.0"
            ]
          },
          "execution_count": 32,
          "metadata": {},
          "output_type": "execute_result"
        }
      ],
      "source": [
        "student_df.groupby(['school_type', 'grade'])['math_score'].mean()"
      ]
    },
    {
      "cell_type": "markdown",
      "id": "bbd0576f-e986-457c-930f-0eb8ee435b57",
      "metadata": {
        "id": "bbd0576f-e986-457c-930f-0eb8ee435b57"
      },
      "source": [
        "# Deliverable 6: Summarize Your Findings\n",
        "In the cell below, write a few sentences to describe any discoveries you made while performing your analysis along with any additional analysis you believe would be worthwhile."
      ]
    },
    {
      "cell_type": "markdown",
      "id": "396f269c-7081-4e43-a203-0a2750b51fa4",
      "metadata": {
        "id": "396f269c-7081-4e43-a203-0a2750b51fa4"
      },
      "source": [
        "\n"
      ]
    }
  ],
  "metadata": {
    "colab": {
      "collapsed_sections": [],
      "provenance": []
    },
    "kernelspec": {
      "display_name": "Python 3.7.6 64-bit",
      "language": "python",
      "name": "python3"
    },
    "language_info": {
      "codemirror_mode": {
        "name": "ipython",
        "version": 3
      },
      "file_extension": ".py",
      "mimetype": "text/x-python",
      "name": "python",
      "nbconvert_exporter": "python",
      "pygments_lexer": "ipython3",
      "version": "3.7.6"
    },
    "vscode": {
      "interpreter": {
        "hash": "01e9924b2bdea153c116a121321085a5fd7491b3d5037201b525dc91735d1ec4"
      }
    }
  },
  "nbformat": 4,
  "nbformat_minor": 5
}
